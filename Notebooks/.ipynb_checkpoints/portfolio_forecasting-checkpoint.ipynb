{
 "cells": [
  {
   "cell_type": "markdown",
   "metadata": {},
   "source": [
    "## Project 1\n"
   ]
  },
  {
   "cell_type": "markdown",
   "metadata": {},
   "source": [
    "### Import Dependencies"
   ]
  },
  {
   "cell_type": "code",
   "execution_count": 45,
   "metadata": {
    "tags": []
   },
   "outputs": [
    {
     "name": "stdout",
     "output_type": "stream",
     "text": [
      "Requirement already satisfied: yahoo_fin in /opt/anaconda3/lib/python3.8/site-packages (0.8.6)\n"
     ]
    }
   ],
   "source": [
    "# Import libraries and dependencies\n",
    "!pip install yahoo_fin\n",
    "import os\n",
    "import pandas as pd\n",
    "import alpaca_trade_api as tradeapi\n",
    "import datetime\n",
    "import math\n",
    "from yahoo_fin import stock_info as si\n",
    "from yahoo_earnings_calendar import YahooEarningsCalendar\n",
    "from MCForecastTools import MCSimulation"
   ]
  },
  {
   "cell_type": "code",
   "execution_count": 2,
   "metadata": {},
   "outputs": [
    {
     "data": {
      "text/plain": [
       "True"
      ]
     },
     "execution_count": 2,
     "metadata": {},
     "output_type": "execute_result"
    }
   ],
   "source": [
    "# Load .env enviroment variables\n",
    "initial_investment = 10000\n",
    "\n",
    "from dotenv import load_dotenv\n",
    "load_dotenv()"
   ]
  },
  {
   "cell_type": "code",
   "execution_count": 3,
   "metadata": {
    "tags": []
   },
   "outputs": [
    {
     "name": "stdout",
     "output_type": "stream",
     "text": [
      "FesmNDEd6cY4l59Bh7JmBjDNOBlZQFZrurblQsiA\n"
     ]
    }
   ],
   "source": [
    "# Set Alpaca API key and secret\n",
    "alpaca_api_key = os.getenv(\"ALPACA_API_KEY\")\n",
    "alpaca_secret_key = os.getenv(\"ALPACA_SECRET_KEY\")\n",
    "\n",
    "api = tradeapi.REST(\n",
    "    alpaca_api_key,\n",
    "    alpaca_secret_key,\n",
    "    api_version = \"v2\"\n",
    ")\n",
    "print(alpaca_secret_key)"
   ]
  },
  {
   "cell_type": "markdown",
   "metadata": {},
   "source": [
    "### Dynamically Pull Stocks Based on Earnings Date"
   ]
  },
  {
   "cell_type": "code",
   "execution_count": 19,
   "metadata": {},
   "outputs": [],
   "source": [
    "today = datetime.date.today()\n",
    "tomorrow = today + datetime.timedelta(days = 1) \n",
    "start_time = tomorrow.strftime(\"%b %d %Y\") + \" 10:00AM\"\n",
    "next_day = today + datetime.timedelta(days = 2) \n",
    "end_time = next_day.strftime(\"%b %d %Y\") + \" 1:00PM\"\n",
    "\n",
    "date_from = datetime.datetime.strptime(\n",
    "    start_time, '%b %d %Y %I:%M%p')\n",
    "date_to = datetime.datetime.strptime(\n",
    "    end_time, '%b %d %Y %I:%M%p')\n",
    "yec = YahooEarningsCalendar()\n",
    "stock_earnings = yec.earnings_between(date_from, date_to)"
   ]
  },
  {
   "cell_type": "code",
   "execution_count": 20,
   "metadata": {},
   "outputs": [
    {
     "name": "stdout",
     "output_type": "stream",
     "text": [
      "[{'ticker': 'ROAD', 'epsestimate': 0.3}, {'ticker': 'ROAD', 'epsestimate': 0.3}]\n",
      "['ROAD']\n"
     ]
    }
   ],
   "source": [
    "stock_list = [{'ticker': ticker['ticker'], 'epsestimate': ticker['epsestimate']} for ticker in stock_earnings if ticker['epsestimate']]\n",
    "\n",
    "print(stock_list)\n",
    "tickers = []\n",
    "for i in stock_list:\n",
    "    if i[\"ticker\"] not in tickers:\n",
    "        tickers.append((i[\"ticker\"]))\n",
    "        \n",
    "print(tickers)"
   ]
  },
  {
   "cell_type": "code",
   "execution_count": 21,
   "metadata": {},
   "outputs": [
    {
     "data": {
      "text/html": [
       "<div>\n",
       "<style scoped>\n",
       "    .dataframe tbody tr th:only-of-type {\n",
       "        vertical-align: middle;\n",
       "    }\n",
       "\n",
       "    .dataframe tbody tr th {\n",
       "        vertical-align: top;\n",
       "    }\n",
       "\n",
       "    .dataframe thead tr th {\n",
       "        text-align: left;\n",
       "    }\n",
       "\n",
       "    .dataframe thead tr:last-of-type th {\n",
       "        text-align: right;\n",
       "    }\n",
       "</style>\n",
       "<table border=\"1\" class=\"dataframe\">\n",
       "  <thead>\n",
       "    <tr>\n",
       "      <th></th>\n",
       "      <th colspan=\"5\" halign=\"left\">ROAD</th>\n",
       "    </tr>\n",
       "    <tr>\n",
       "      <th></th>\n",
       "      <th>open</th>\n",
       "      <th>high</th>\n",
       "      <th>low</th>\n",
       "      <th>close</th>\n",
       "      <th>volume</th>\n",
       "    </tr>\n",
       "    <tr>\n",
       "      <th>time</th>\n",
       "      <th></th>\n",
       "      <th></th>\n",
       "      <th></th>\n",
       "      <th></th>\n",
       "      <th></th>\n",
       "    </tr>\n",
       "  </thead>\n",
       "  <tbody>\n",
       "    <tr>\n",
       "      <th>2018-05-04 00:00:00-04:00</th>\n",
       "      <td>13.00</td>\n",
       "      <td>13.2400</td>\n",
       "      <td>12.00</td>\n",
       "      <td>12.100</td>\n",
       "      <td>3947178</td>\n",
       "    </tr>\n",
       "    <tr>\n",
       "      <th>2018-05-07 00:00:00-04:00</th>\n",
       "      <td>12.10</td>\n",
       "      <td>12.2514</td>\n",
       "      <td>12.04</td>\n",
       "      <td>12.050</td>\n",
       "      <td>466529</td>\n",
       "    </tr>\n",
       "    <tr>\n",
       "      <th>2018-05-08 00:00:00-04:00</th>\n",
       "      <td>12.18</td>\n",
       "      <td>12.2100</td>\n",
       "      <td>12.00</td>\n",
       "      <td>12.050</td>\n",
       "      <td>290422</td>\n",
       "    </tr>\n",
       "    <tr>\n",
       "      <th>2018-05-09 00:00:00-04:00</th>\n",
       "      <td>12.04</td>\n",
       "      <td>12.1800</td>\n",
       "      <td>12.00</td>\n",
       "      <td>12.035</td>\n",
       "      <td>167564</td>\n",
       "    </tr>\n",
       "    <tr>\n",
       "      <th>2018-05-10 00:00:00-04:00</th>\n",
       "      <td>12.01</td>\n",
       "      <td>12.1500</td>\n",
       "      <td>12.00</td>\n",
       "      <td>12.000</td>\n",
       "      <td>105833</td>\n",
       "    </tr>\n",
       "  </tbody>\n",
       "</table>\n",
       "</div>"
      ],
      "text/plain": [
       "                            ROAD                                 \n",
       "                            open     high    low   close   volume\n",
       "time                                                             \n",
       "2018-05-04 00:00:00-04:00  13.00  13.2400  12.00  12.100  3947178\n",
       "2018-05-07 00:00:00-04:00  12.10  12.2514  12.04  12.050   466529\n",
       "2018-05-08 00:00:00-04:00  12.18  12.2100  12.00  12.050   290422\n",
       "2018-05-09 00:00:00-04:00  12.04  12.1800  12.00  12.035   167564\n",
       "2018-05-10 00:00:00-04:00  12.01  12.1500  12.00  12.000   105833"
      ]
     },
     "execution_count": 21,
     "metadata": {},
     "output_type": "execute_result"
    }
   ],
   "source": [
    "# Set timeframe to '1D'\n",
    "timeframe = \"1D\"\n",
    "\n",
    "# Set start and end datetimes between now and 3 years ago.\n",
    "start_date = pd.Timestamp(\"2018-05-01\", tz=\"America/New_York\").isoformat()\n",
    "end_date = pd.Timestamp(\"2020-05-01\", tz=\"America/New_York\").isoformat()\n",
    "\n",
    "# Get 3 year's worth of historical price data for Microsoft and Coca-Cola\n",
    "df_ticker = api.get_barset(\n",
    "    tickers,\n",
    "    timeframe,\n",
    "    start=start_date,\n",
    "    end=end_date\n",
    ").df\n",
    "\n",
    "df_ticker.head()"
   ]
  },
  {
   "cell_type": "code",
   "execution_count": 22,
   "metadata": {},
   "outputs": [],
   "source": [
    "### Dynamically Generate Weights "
   ]
  },
  {
   "cell_type": "code",
   "execution_count": 23,
   "metadata": {},
   "outputs": [
    {
     "name": "stdout",
     "output_type": "stream",
     "text": [
      "[1.0]\n"
     ]
    }
   ],
   "source": [
    "weight_pct = round(100/len(tickers)/100,2)\n",
    "\n",
    "weight_list = []\n",
    "\n",
    "for i in range(len(tickers)):\n",
    "    weight_list.append(weight_pct)\n",
    "\n",
    "print(weight_list)"
   ]
  },
  {
   "cell_type": "markdown",
   "metadata": {},
   "source": [
    "### The MCForecastTools Library at a Glance"
   ]
  },
  {
   "cell_type": "markdown",
   "metadata": {},
   "source": [
    "### Simulate five year portfolio growth using Monte Carlo simulation"
   ]
  },
  {
   "cell_type": "code",
   "execution_count": 24,
   "metadata": {},
   "outputs": [],
   "source": [
    "# Configuring a Monte Carlo simulation to forecast five years cumulative returns\n",
    "MC_fiveyear = MCSimulation(\n",
    "    portfolio_data = df_ticker,\n",
    "    weights = weight_list,\n",
    "    num_simulation = 500,\n",
    "    num_trading_days = 252*5\n",
    ")"
   ]
  },
  {
   "cell_type": "code",
   "execution_count": 25,
   "metadata": {},
   "outputs": [
    {
     "data": {
      "text/html": [
       "<div>\n",
       "<style scoped>\n",
       "    .dataframe tbody tr th:only-of-type {\n",
       "        vertical-align: middle;\n",
       "    }\n",
       "\n",
       "    .dataframe tbody tr th {\n",
       "        vertical-align: top;\n",
       "    }\n",
       "\n",
       "    .dataframe thead tr th {\n",
       "        text-align: left;\n",
       "    }\n",
       "\n",
       "    .dataframe thead tr:last-of-type th {\n",
       "        text-align: right;\n",
       "    }\n",
       "</style>\n",
       "<table border=\"1\" class=\"dataframe\">\n",
       "  <thead>\n",
       "    <tr>\n",
       "      <th></th>\n",
       "      <th colspan=\"6\" halign=\"left\">ROAD</th>\n",
       "    </tr>\n",
       "    <tr>\n",
       "      <th></th>\n",
       "      <th>open</th>\n",
       "      <th>high</th>\n",
       "      <th>low</th>\n",
       "      <th>close</th>\n",
       "      <th>volume</th>\n",
       "      <th>daily_return</th>\n",
       "    </tr>\n",
       "    <tr>\n",
       "      <th>time</th>\n",
       "      <th></th>\n",
       "      <th></th>\n",
       "      <th></th>\n",
       "      <th></th>\n",
       "      <th></th>\n",
       "      <th></th>\n",
       "    </tr>\n",
       "  </thead>\n",
       "  <tbody>\n",
       "    <tr>\n",
       "      <th>2018-05-04 00:00:00-04:00</th>\n",
       "      <td>13.00</td>\n",
       "      <td>13.2400</td>\n",
       "      <td>12.00</td>\n",
       "      <td>12.100</td>\n",
       "      <td>3947178</td>\n",
       "      <td>NaN</td>\n",
       "    </tr>\n",
       "    <tr>\n",
       "      <th>2018-05-07 00:00:00-04:00</th>\n",
       "      <td>12.10</td>\n",
       "      <td>12.2514</td>\n",
       "      <td>12.04</td>\n",
       "      <td>12.050</td>\n",
       "      <td>466529</td>\n",
       "      <td>-0.004132</td>\n",
       "    </tr>\n",
       "    <tr>\n",
       "      <th>2018-05-08 00:00:00-04:00</th>\n",
       "      <td>12.18</td>\n",
       "      <td>12.2100</td>\n",
       "      <td>12.00</td>\n",
       "      <td>12.050</td>\n",
       "      <td>290422</td>\n",
       "      <td>0.000000</td>\n",
       "    </tr>\n",
       "    <tr>\n",
       "      <th>2018-05-09 00:00:00-04:00</th>\n",
       "      <td>12.04</td>\n",
       "      <td>12.1800</td>\n",
       "      <td>12.00</td>\n",
       "      <td>12.035</td>\n",
       "      <td>167564</td>\n",
       "      <td>-0.001245</td>\n",
       "    </tr>\n",
       "    <tr>\n",
       "      <th>2018-05-10 00:00:00-04:00</th>\n",
       "      <td>12.01</td>\n",
       "      <td>12.1500</td>\n",
       "      <td>12.00</td>\n",
       "      <td>12.000</td>\n",
       "      <td>105833</td>\n",
       "      <td>-0.002908</td>\n",
       "    </tr>\n",
       "  </tbody>\n",
       "</table>\n",
       "</div>"
      ],
      "text/plain": [
       "                            ROAD                                              \n",
       "                            open     high    low   close   volume daily_return\n",
       "time                                                                          \n",
       "2018-05-04 00:00:00-04:00  13.00  13.2400  12.00  12.100  3947178          NaN\n",
       "2018-05-07 00:00:00-04:00  12.10  12.2514  12.04  12.050   466529    -0.004132\n",
       "2018-05-08 00:00:00-04:00  12.18  12.2100  12.00  12.050   290422     0.000000\n",
       "2018-05-09 00:00:00-04:00  12.04  12.1800  12.00  12.035   167564    -0.001245\n",
       "2018-05-10 00:00:00-04:00  12.01  12.1500  12.00  12.000   105833    -0.002908"
      ]
     },
     "execution_count": 25,
     "metadata": {},
     "output_type": "execute_result"
    }
   ],
   "source": [
    "# Printing the simulation input data\n",
    "MC_fiveyear.portfolio_data.head()"
   ]
  },
  {
   "cell_type": "code",
   "execution_count": 26,
   "metadata": {},
   "outputs": [
    {
     "name": "stdout",
     "output_type": "stream",
     "text": [
      "Running Monte Carlo simulation number 0.\n",
      "Running Monte Carlo simulation number 10.\n",
      "Running Monte Carlo simulation number 20.\n",
      "Running Monte Carlo simulation number 30.\n",
      "Running Monte Carlo simulation number 40.\n",
      "Running Monte Carlo simulation number 50.\n",
      "Running Monte Carlo simulation number 60.\n",
      "Running Monte Carlo simulation number 70.\n",
      "Running Monte Carlo simulation number 80.\n",
      "Running Monte Carlo simulation number 90.\n",
      "Running Monte Carlo simulation number 100.\n",
      "Running Monte Carlo simulation number 110.\n",
      "Running Monte Carlo simulation number 120.\n",
      "Running Monte Carlo simulation number 130.\n",
      "Running Monte Carlo simulation number 140.\n",
      "Running Monte Carlo simulation number 150.\n",
      "Running Monte Carlo simulation number 160.\n",
      "Running Monte Carlo simulation number 170.\n",
      "Running Monte Carlo simulation number 180.\n",
      "Running Monte Carlo simulation number 190.\n",
      "Running Monte Carlo simulation number 200.\n",
      "Running Monte Carlo simulation number 210.\n",
      "Running Monte Carlo simulation number 220.\n",
      "Running Monte Carlo simulation number 230.\n",
      "Running Monte Carlo simulation number 240.\n",
      "Running Monte Carlo simulation number 250.\n",
      "Running Monte Carlo simulation number 260.\n",
      "Running Monte Carlo simulation number 270.\n",
      "Running Monte Carlo simulation number 280.\n",
      "Running Monte Carlo simulation number 290.\n",
      "Running Monte Carlo simulation number 300.\n",
      "Running Monte Carlo simulation number 310.\n",
      "Running Monte Carlo simulation number 320.\n",
      "Running Monte Carlo simulation number 330.\n",
      "Running Monte Carlo simulation number 340.\n",
      "Running Monte Carlo simulation number 350.\n",
      "Running Monte Carlo simulation number 360.\n",
      "Running Monte Carlo simulation number 370.\n",
      "Running Monte Carlo simulation number 380.\n",
      "Running Monte Carlo simulation number 390.\n",
      "Running Monte Carlo simulation number 400.\n",
      "Running Monte Carlo simulation number 410.\n",
      "Running Monte Carlo simulation number 420.\n",
      "Running Monte Carlo simulation number 430.\n",
      "Running Monte Carlo simulation number 440.\n",
      "Running Monte Carlo simulation number 450.\n",
      "Running Monte Carlo simulation number 460.\n",
      "Running Monte Carlo simulation number 470.\n",
      "Running Monte Carlo simulation number 480.\n",
      "Running Monte Carlo simulation number 490.\n"
     ]
    },
    {
     "data": {
      "text/html": [
       "<div>\n",
       "<style scoped>\n",
       "    .dataframe tbody tr th:only-of-type {\n",
       "        vertical-align: middle;\n",
       "    }\n",
       "\n",
       "    .dataframe tbody tr th {\n",
       "        vertical-align: top;\n",
       "    }\n",
       "\n",
       "    .dataframe thead th {\n",
       "        text-align: right;\n",
       "    }\n",
       "</style>\n",
       "<table border=\"1\" class=\"dataframe\">\n",
       "  <thead>\n",
       "    <tr style=\"text-align: right;\">\n",
       "      <th></th>\n",
       "      <th>0</th>\n",
       "      <th>1</th>\n",
       "      <th>2</th>\n",
       "      <th>3</th>\n",
       "      <th>4</th>\n",
       "      <th>5</th>\n",
       "      <th>6</th>\n",
       "      <th>7</th>\n",
       "      <th>8</th>\n",
       "      <th>9</th>\n",
       "      <th>...</th>\n",
       "      <th>490</th>\n",
       "      <th>491</th>\n",
       "      <th>492</th>\n",
       "      <th>493</th>\n",
       "      <th>494</th>\n",
       "      <th>495</th>\n",
       "      <th>496</th>\n",
       "      <th>497</th>\n",
       "      <th>498</th>\n",
       "      <th>499</th>\n",
       "    </tr>\n",
       "  </thead>\n",
       "  <tbody>\n",
       "    <tr>\n",
       "      <th>0</th>\n",
       "      <td>1.000000</td>\n",
       "      <td>1.000000</td>\n",
       "      <td>1.000000</td>\n",
       "      <td>1.000000</td>\n",
       "      <td>1.000000</td>\n",
       "      <td>1.000000</td>\n",
       "      <td>1.000000</td>\n",
       "      <td>1.000000</td>\n",
       "      <td>1.000000</td>\n",
       "      <td>1.000000</td>\n",
       "      <td>...</td>\n",
       "      <td>1.000000</td>\n",
       "      <td>1.000000</td>\n",
       "      <td>1.000000</td>\n",
       "      <td>1.000000</td>\n",
       "      <td>1.000000</td>\n",
       "      <td>1.000000</td>\n",
       "      <td>1.000000</td>\n",
       "      <td>1.000000</td>\n",
       "      <td>1.000000</td>\n",
       "      <td>1.000000</td>\n",
       "    </tr>\n",
       "    <tr>\n",
       "      <th>1</th>\n",
       "      <td>0.994029</td>\n",
       "      <td>0.941229</td>\n",
       "      <td>1.025197</td>\n",
       "      <td>0.904935</td>\n",
       "      <td>1.027686</td>\n",
       "      <td>0.958125</td>\n",
       "      <td>0.997976</td>\n",
       "      <td>0.961387</td>\n",
       "      <td>0.985025</td>\n",
       "      <td>1.019377</td>\n",
       "      <td>...</td>\n",
       "      <td>1.041775</td>\n",
       "      <td>0.926614</td>\n",
       "      <td>0.983535</td>\n",
       "      <td>1.004387</td>\n",
       "      <td>1.007115</td>\n",
       "      <td>1.031894</td>\n",
       "      <td>0.993747</td>\n",
       "      <td>0.945940</td>\n",
       "      <td>0.971864</td>\n",
       "      <td>1.015173</td>\n",
       "    </tr>\n",
       "    <tr>\n",
       "      <th>2</th>\n",
       "      <td>1.019320</td>\n",
       "      <td>0.961017</td>\n",
       "      <td>1.075863</td>\n",
       "      <td>0.888090</td>\n",
       "      <td>1.001803</td>\n",
       "      <td>0.944106</td>\n",
       "      <td>0.968170</td>\n",
       "      <td>0.972941</td>\n",
       "      <td>0.966523</td>\n",
       "      <td>0.964347</td>\n",
       "      <td>...</td>\n",
       "      <td>1.065675</td>\n",
       "      <td>0.930504</td>\n",
       "      <td>0.989057</td>\n",
       "      <td>1.105362</td>\n",
       "      <td>0.976887</td>\n",
       "      <td>1.078620</td>\n",
       "      <td>0.966612</td>\n",
       "      <td>0.915266</td>\n",
       "      <td>0.989850</td>\n",
       "      <td>1.023421</td>\n",
       "    </tr>\n",
       "    <tr>\n",
       "      <th>3</th>\n",
       "      <td>1.071927</td>\n",
       "      <td>0.967811</td>\n",
       "      <td>1.106396</td>\n",
       "      <td>0.921582</td>\n",
       "      <td>1.037430</td>\n",
       "      <td>0.991228</td>\n",
       "      <td>1.021548</td>\n",
       "      <td>0.938937</td>\n",
       "      <td>1.021496</td>\n",
       "      <td>0.938115</td>\n",
       "      <td>...</td>\n",
       "      <td>1.046425</td>\n",
       "      <td>0.905772</td>\n",
       "      <td>1.051830</td>\n",
       "      <td>1.128101</td>\n",
       "      <td>1.005583</td>\n",
       "      <td>1.079849</td>\n",
       "      <td>0.952610</td>\n",
       "      <td>0.911073</td>\n",
       "      <td>1.034651</td>\n",
       "      <td>1.022244</td>\n",
       "    </tr>\n",
       "    <tr>\n",
       "      <th>4</th>\n",
       "      <td>1.066603</td>\n",
       "      <td>0.945747</td>\n",
       "      <td>1.093820</td>\n",
       "      <td>0.937865</td>\n",
       "      <td>1.036868</td>\n",
       "      <td>1.019258</td>\n",
       "      <td>1.009576</td>\n",
       "      <td>0.970869</td>\n",
       "      <td>1.076670</td>\n",
       "      <td>0.961604</td>\n",
       "      <td>...</td>\n",
       "      <td>0.997737</td>\n",
       "      <td>0.887889</td>\n",
       "      <td>1.087946</td>\n",
       "      <td>1.144382</td>\n",
       "      <td>0.982171</td>\n",
       "      <td>1.042934</td>\n",
       "      <td>0.983895</td>\n",
       "      <td>0.887026</td>\n",
       "      <td>0.956345</td>\n",
       "      <td>1.041077</td>\n",
       "    </tr>\n",
       "    <tr>\n",
       "      <th>...</th>\n",
       "      <td>...</td>\n",
       "      <td>...</td>\n",
       "      <td>...</td>\n",
       "      <td>...</td>\n",
       "      <td>...</td>\n",
       "      <td>...</td>\n",
       "      <td>...</td>\n",
       "      <td>...</td>\n",
       "      <td>...</td>\n",
       "      <td>...</td>\n",
       "      <td>...</td>\n",
       "      <td>...</td>\n",
       "      <td>...</td>\n",
       "      <td>...</td>\n",
       "      <td>...</td>\n",
       "      <td>...</td>\n",
       "      <td>...</td>\n",
       "      <td>...</td>\n",
       "      <td>...</td>\n",
       "      <td>...</td>\n",
       "      <td>...</td>\n",
       "    </tr>\n",
       "    <tr>\n",
       "      <th>1256</th>\n",
       "      <td>0.692631</td>\n",
       "      <td>0.849124</td>\n",
       "      <td>2.786674</td>\n",
       "      <td>3.043502</td>\n",
       "      <td>1.620688</td>\n",
       "      <td>6.094430</td>\n",
       "      <td>2.508496</td>\n",
       "      <td>0.350814</td>\n",
       "      <td>3.162243</td>\n",
       "      <td>2.451369</td>\n",
       "      <td>...</td>\n",
       "      <td>0.410839</td>\n",
       "      <td>0.640251</td>\n",
       "      <td>0.800654</td>\n",
       "      <td>0.370890</td>\n",
       "      <td>0.053937</td>\n",
       "      <td>1.313982</td>\n",
       "      <td>8.825105</td>\n",
       "      <td>1.004155</td>\n",
       "      <td>3.179633</td>\n",
       "      <td>23.844427</td>\n",
       "    </tr>\n",
       "    <tr>\n",
       "      <th>1257</th>\n",
       "      <td>0.702166</td>\n",
       "      <td>0.830056</td>\n",
       "      <td>2.786010</td>\n",
       "      <td>3.290227</td>\n",
       "      <td>1.541509</td>\n",
       "      <td>6.558138</td>\n",
       "      <td>2.536192</td>\n",
       "      <td>0.347099</td>\n",
       "      <td>2.976816</td>\n",
       "      <td>2.559984</td>\n",
       "      <td>...</td>\n",
       "      <td>0.428741</td>\n",
       "      <td>0.608987</td>\n",
       "      <td>0.796279</td>\n",
       "      <td>0.378845</td>\n",
       "      <td>0.057887</td>\n",
       "      <td>1.305601</td>\n",
       "      <td>9.022402</td>\n",
       "      <td>1.018121</td>\n",
       "      <td>3.219984</td>\n",
       "      <td>23.253745</td>\n",
       "    </tr>\n",
       "    <tr>\n",
       "      <th>1258</th>\n",
       "      <td>0.685724</td>\n",
       "      <td>0.848521</td>\n",
       "      <td>2.678792</td>\n",
       "      <td>3.195179</td>\n",
       "      <td>1.516025</td>\n",
       "      <td>5.966043</td>\n",
       "      <td>2.622171</td>\n",
       "      <td>0.340129</td>\n",
       "      <td>2.914926</td>\n",
       "      <td>2.477410</td>\n",
       "      <td>...</td>\n",
       "      <td>0.431923</td>\n",
       "      <td>0.610706</td>\n",
       "      <td>0.780157</td>\n",
       "      <td>0.366260</td>\n",
       "      <td>0.057354</td>\n",
       "      <td>1.335902</td>\n",
       "      <td>8.738681</td>\n",
       "      <td>0.960313</td>\n",
       "      <td>3.219742</td>\n",
       "      <td>24.506517</td>\n",
       "    </tr>\n",
       "    <tr>\n",
       "      <th>1259</th>\n",
       "      <td>0.700004</td>\n",
       "      <td>0.804830</td>\n",
       "      <td>2.718146</td>\n",
       "      <td>2.967934</td>\n",
       "      <td>1.478175</td>\n",
       "      <td>5.794983</td>\n",
       "      <td>2.556799</td>\n",
       "      <td>0.346798</td>\n",
       "      <td>2.921112</td>\n",
       "      <td>2.370335</td>\n",
       "      <td>...</td>\n",
       "      <td>0.430218</td>\n",
       "      <td>0.636275</td>\n",
       "      <td>0.795372</td>\n",
       "      <td>0.378784</td>\n",
       "      <td>0.057517</td>\n",
       "      <td>1.322618</td>\n",
       "      <td>9.401250</td>\n",
       "      <td>1.008605</td>\n",
       "      <td>3.146818</td>\n",
       "      <td>24.819825</td>\n",
       "    </tr>\n",
       "    <tr>\n",
       "      <th>1260</th>\n",
       "      <td>0.712292</td>\n",
       "      <td>0.775365</td>\n",
       "      <td>2.766140</td>\n",
       "      <td>3.061228</td>\n",
       "      <td>1.493167</td>\n",
       "      <td>5.757560</td>\n",
       "      <td>2.434361</td>\n",
       "      <td>0.358430</td>\n",
       "      <td>2.723247</td>\n",
       "      <td>2.511977</td>\n",
       "      <td>...</td>\n",
       "      <td>0.423771</td>\n",
       "      <td>0.615792</td>\n",
       "      <td>0.811866</td>\n",
       "      <td>0.383050</td>\n",
       "      <td>0.056668</td>\n",
       "      <td>1.323172</td>\n",
       "      <td>9.028869</td>\n",
       "      <td>1.023292</td>\n",
       "      <td>3.041221</td>\n",
       "      <td>24.715831</td>\n",
       "    </tr>\n",
       "  </tbody>\n",
       "</table>\n",
       "<p>1261 rows × 500 columns</p>\n",
       "</div>"
      ],
      "text/plain": [
       "           0         1         2         3         4         5         6    \\\n",
       "0     1.000000  1.000000  1.000000  1.000000  1.000000  1.000000  1.000000   \n",
       "1     0.994029  0.941229  1.025197  0.904935  1.027686  0.958125  0.997976   \n",
       "2     1.019320  0.961017  1.075863  0.888090  1.001803  0.944106  0.968170   \n",
       "3     1.071927  0.967811  1.106396  0.921582  1.037430  0.991228  1.021548   \n",
       "4     1.066603  0.945747  1.093820  0.937865  1.036868  1.019258  1.009576   \n",
       "...        ...       ...       ...       ...       ...       ...       ...   \n",
       "1256  0.692631  0.849124  2.786674  3.043502  1.620688  6.094430  2.508496   \n",
       "1257  0.702166  0.830056  2.786010  3.290227  1.541509  6.558138  2.536192   \n",
       "1258  0.685724  0.848521  2.678792  3.195179  1.516025  5.966043  2.622171   \n",
       "1259  0.700004  0.804830  2.718146  2.967934  1.478175  5.794983  2.556799   \n",
       "1260  0.712292  0.775365  2.766140  3.061228  1.493167  5.757560  2.434361   \n",
       "\n",
       "           7         8         9    ...       490       491       492  \\\n",
       "0     1.000000  1.000000  1.000000  ...  1.000000  1.000000  1.000000   \n",
       "1     0.961387  0.985025  1.019377  ...  1.041775  0.926614  0.983535   \n",
       "2     0.972941  0.966523  0.964347  ...  1.065675  0.930504  0.989057   \n",
       "3     0.938937  1.021496  0.938115  ...  1.046425  0.905772  1.051830   \n",
       "4     0.970869  1.076670  0.961604  ...  0.997737  0.887889  1.087946   \n",
       "...        ...       ...       ...  ...       ...       ...       ...   \n",
       "1256  0.350814  3.162243  2.451369  ...  0.410839  0.640251  0.800654   \n",
       "1257  0.347099  2.976816  2.559984  ...  0.428741  0.608987  0.796279   \n",
       "1258  0.340129  2.914926  2.477410  ...  0.431923  0.610706  0.780157   \n",
       "1259  0.346798  2.921112  2.370335  ...  0.430218  0.636275  0.795372   \n",
       "1260  0.358430  2.723247  2.511977  ...  0.423771  0.615792  0.811866   \n",
       "\n",
       "           493       494       495       496       497       498        499  \n",
       "0     1.000000  1.000000  1.000000  1.000000  1.000000  1.000000   1.000000  \n",
       "1     1.004387  1.007115  1.031894  0.993747  0.945940  0.971864   1.015173  \n",
       "2     1.105362  0.976887  1.078620  0.966612  0.915266  0.989850   1.023421  \n",
       "3     1.128101  1.005583  1.079849  0.952610  0.911073  1.034651   1.022244  \n",
       "4     1.144382  0.982171  1.042934  0.983895  0.887026  0.956345   1.041077  \n",
       "...        ...       ...       ...       ...       ...       ...        ...  \n",
       "1256  0.370890  0.053937  1.313982  8.825105  1.004155  3.179633  23.844427  \n",
       "1257  0.378845  0.057887  1.305601  9.022402  1.018121  3.219984  23.253745  \n",
       "1258  0.366260  0.057354  1.335902  8.738681  0.960313  3.219742  24.506517  \n",
       "1259  0.378784  0.057517  1.322618  9.401250  1.008605  3.146818  24.819825  \n",
       "1260  0.383050  0.056668  1.323172  9.028869  1.023292  3.041221  24.715831  \n",
       "\n",
       "[1261 rows x 500 columns]"
      ]
     },
     "execution_count": 26,
     "metadata": {},
     "output_type": "execute_result"
    }
   ],
   "source": [
    "# Running a Monte Carlo simulation to forecast five years cumulative returns\n",
    "MC_fiveyear.calc_cumulative_return()"
   ]
  },
  {
   "cell_type": "code",
   "execution_count": 27,
   "metadata": {},
   "outputs": [
    {
     "data": {
      "image/png": "[encoded data removed]",
      "text/plain": [
       "<Figure size 432x288 with 1 Axes>"
      ]
     },
     "metadata": {
      "needs_background": "light"
     },
     "output_type": "display_data"
    }
   ],
   "source": [
    "# Plot simulation outcomes\n",
    "line_plot = MC_fiveyear.plot_simulation()\n",
    "\n",
    "# Save the plot for future usage\n",
    "line_plot.get_figure().savefig(\"MC_fiveyear_sim_plot.png\", bbox_inches=\"tight\")"
   ]
  },
  {
   "cell_type": "code",
   "execution_count": 28,
   "metadata": {},
   "outputs": [
    {
     "data": {
      "image/png": "[encoded data removed]",
      "text/plain": [
       "<Figure size 432x288 with 1 Axes>"
      ]
     },
     "metadata": {
      "needs_background": "light"
     },
     "output_type": "display_data"
    }
   ],
   "source": [
    "# Plot probability distribution and confidence intervals\n",
    "dist_plot = MC_fiveyear.plot_distribution()\n",
    "\n",
    "# Save the plot for future usage\n",
    "dist_plot.get_figure().savefig('MC_fiveyear_dist_plot.png',bbox_inches='tight')"
   ]
  },
  {
   "cell_type": "code",
   "execution_count": 29,
   "metadata": {},
   "outputs": [
    {
     "name": "stdout",
     "output_type": "stream",
     "text": [
      "count           500.000000\n",
      "mean              5.455190\n",
      "std              11.219788\n",
      "min               0.018298\n",
      "25%               0.983470\n",
      "50%               2.199478\n",
      "75%               5.234265\n",
      "max             135.617843\n",
      "95% CI Lower      0.192371\n",
      "95% CI Upper     31.832173\n",
      "Name: 1260, dtype: float64\n"
     ]
    }
   ],
   "source": [
    "# Fetch summary statistics from the Monte Carlo simulation results\n",
    "tbl = MC_fiveyear.summarize_cumulative_return()\n",
    "\n",
    "# Print summary statistics\n",
    "print(tbl)"
   ]
  },
  {
   "cell_type": "code",
   "execution_count": 30,
   "metadata": {},
   "outputs": [
    {
     "name": "stdout",
     "output_type": "stream",
     "text": [
      "There is a 95% chance that an initial investment of $10,000 in the portfolio over the next 5 years will end within in the range of $1923.71 and $318321.73\n"
     ]
    }
   ],
   "source": [
    "# Use the lower and upper `95%` confidence intervals to calculate the range of the possible outcomes of our $10,000 investments in Coca-Cola and Microsoft stocks\n",
    "ci_lower = round(tbl[8]*initial_investment,2)\n",
    "ci_upper = round(tbl[9]*initial_investment,2)\n",
    "\n",
    "# Print results\n",
    "print(f\"There is a 95% chance that an initial investment of $10,000 in the portfolio\"\n",
    "      f\" over the next 5 years will end within in the range of\"\n",
    "      f\" ${ci_lower} and ${ci_upper}\")"
   ]
  },
  {
   "cell_type": "code",
   "execution_count": 46,
   "metadata": {},
   "outputs": [
    {
     "name": "stdout",
     "output_type": "stream",
     "text": [
      "Buy ROAD: 343 shares\n"
     ]
    }
   ],
   "source": [
    "portfolio = {}\n",
    "for ticker in tickers:\n",
    "    stock_weight = weight_list[tickers.index(ticker)] * initial_investment\n",
    "    current_stock_price = round(si.get_live_price(ticker),2)\n",
    "    portfolio_weight = stock_weight//current_stock_price\n",
    "    portfolio[ticker] = math.floor(portfolio_weight)\n",
    "\n",
    "for key in portfolio.keys():\n",
    "    mystring = f\"Buy {key}: {portfolio[key]} shares\"\n",
    "    print(mystring)"
   ]
  },
  {
   "cell_type": "code",
   "execution_count": null,
   "metadata": {},
   "outputs": [],
   "source": []
  },
  {
   "cell_type": "code",
   "execution_count": null,
   "metadata": {},
   "outputs": [],
   "source": []
  },
  {
   "cell_type": "code",
   "execution_count": null,
   "metadata": {},
   "outputs": [],
   "source": []
  },
  {
   "cell_type": "code",
   "execution_count": null,
   "metadata": {},
   "outputs": [],
   "source": []
  },
  {
   "cell_type": "code",
   "execution_count": null,
   "metadata": {},
   "outputs": [],
   "source": []
  }
 ],
 "metadata": {
  "kernel_info": {
   "name": "python3"
  },
  "kernelspec": {
   "display_name": "Python 3",
   "language": "python",
   "name": "python3"
  },
  "language_info": {
   "codemirror_mode": {
    "name": "ipython",
    "version": 3
   },
   "file_extension": ".py",
   "mimetype": "text/x-python",
   "name": "python",
   "nbconvert_exporter": "python",
   "pygments_lexer": "ipython3",
   "version": "3.8.5"
  },
  "nteract": {
   "version": "0.12.3"
  }
 },
 "nbformat": 4,
 "nbformat_minor": 4
}
