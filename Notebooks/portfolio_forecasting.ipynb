{
 "cells": [
  {
   "cell_type": "markdown",
   "metadata": {},
   "source": [
    "## Project 1\n"
   ]
  },
  {
   "cell_type": "markdown",
   "metadata": {},
   "source": [
    "### Import Dependencies"
   ]
  },
  {
   "cell_type": "code",
   "execution_count": 9,
   "metadata": {
    "tags": []
   },
   "outputs": [
    {
     "name": "stdout",
     "output_type": "stream",
     "text": [
      "Requirement already satisfied: yahoo_fin in /opt/anaconda3/lib/python3.8/site-packages (0.8.6)\n"
     ]
    }
   ],
   "source": [
    "# Import libraries and dependencies\n",
    "!pip install yahoo_fin\n",
    "import os\n",
    "import pandas as pd\n",
    "import alpaca_trade_api as tradeapi\n",
    "import datetime\n",
    "import math\n",
    "import random\n",
    "from yahoo_fin import stock_info as si\n",
    "from yahoo_earnings_calendar import YahooEarningsCalendar\n",
    "from MCForecastTools import MCSimulation"
   ]
  },
  {
   "cell_type": "code",
   "execution_count": 10,
   "metadata": {},
   "outputs": [
    {
     "data": {
      "text/plain": [
       "True"
      ]
     },
     "execution_count": 10,
     "metadata": {},
     "output_type": "execute_result"
    }
   ],
   "source": [
    "# Load .env enviroment variables\n",
    "initial_investment = 10000\n",
    "\n",
    "from dotenv import load_dotenv\n",
    "load_dotenv()"
   ]
  },
  {
   "cell_type": "code",
   "execution_count": 11,
   "metadata": {
    "tags": []
   },
   "outputs": [
    {
     "name": "stdout",
     "output_type": "stream",
     "text": [
      "FesmNDEd6cY4l59Bh7JmBjDNOBlZQFZrurblQsiA\n"
     ]
    }
   ],
   "source": [
    "# Set Alpaca API key and secret\n",
    "alpaca_api_key = os.getenv(\"ALPACA_API_KEY\")\n",
    "alpaca_secret_key = os.getenv(\"ALPACA_SECRET_KEY\")\n",
    "\n",
    "api = tradeapi.REST(\n",
    "    alpaca_api_key,\n",
    "    alpaca_secret_key,\n",
    "    api_version = \"v2\"\n",
    ")\n",
    "print(alpaca_secret_key)"
   ]
  },
  {
   "cell_type": "markdown",
   "metadata": {},
   "source": [
    "### Dynamically Pull Stocks Based on Earnings Date"
   ]
  },
  {
   "cell_type": "code",
   "execution_count": 25,
   "metadata": {},
   "outputs": [],
   "source": [
    "today = datetime.date.today()\n",
    "tomorrow = today + datetime.timedelta(days = 1) \n",
    "start_time = tomorrow.strftime(\"%b %d %Y\") + \" 10:00AM\"\n",
    "next_day = today + datetime.timedelta(days = 2) \n",
    "end_time = next_day.strftime(\"%b %d %Y\") + \" 1:00PM\"\n",
    "\n",
    "date_from = datetime.datetime.strptime(\n",
    "    start_time, '%b %d %Y %I:%M%p')\n",
    "date_to = datetime.datetime.strptime(\n",
    "    end_time, '%b %d %Y %I:%M%p')\n",
    "yec = YahooEarningsCalendar()\n",
    "stock_earnings = yec.earnings_between(date_from, date_to)\n"
   ]
  },
  {
   "cell_type": "code",
   "execution_count": 26,
   "metadata": {},
   "outputs": [
    {
     "name": "stdout",
     "output_type": "stream",
     "text": [
      "['ROAD']\n"
     ]
    }
   ],
   "source": [
    "stock_list = [{'ticker': ticker['ticker'], 'epsestimate': ticker['epsestimate']} for ticker in stock_earnings if ticker['epsestimate']]\n",
    "tickers = []\n",
    "for i in stock_list:\n",
    "    if i[\"ticker\"] not in tickers:\n",
    "        tickers.append((i[\"ticker\"]))\n",
    "        \n",
    "print(tickers)"
   ]
  },
  {
   "cell_type": "code",
   "execution_count": 27,
   "metadata": {},
   "outputs": [
    {
     "data": {
      "text/html": [
       "<div>\n",
       "<style scoped>\n",
       "    .dataframe tbody tr th:only-of-type {\n",
       "        vertical-align: middle;\n",
       "    }\n",
       "\n",
       "    .dataframe tbody tr th {\n",
       "        vertical-align: top;\n",
       "    }\n",
       "\n",
       "    .dataframe thead tr th {\n",
       "        text-align: left;\n",
       "    }\n",
       "\n",
       "    .dataframe thead tr:last-of-type th {\n",
       "        text-align: right;\n",
       "    }\n",
       "</style>\n",
       "<table border=\"1\" class=\"dataframe\">\n",
       "  <thead>\n",
       "    <tr>\n",
       "      <th></th>\n",
       "      <th colspan=\"5\" halign=\"left\">ROAD</th>\n",
       "    </tr>\n",
       "    <tr>\n",
       "      <th></th>\n",
       "      <th>open</th>\n",
       "      <th>high</th>\n",
       "      <th>low</th>\n",
       "      <th>close</th>\n",
       "      <th>volume</th>\n",
       "    </tr>\n",
       "    <tr>\n",
       "      <th>time</th>\n",
       "      <th></th>\n",
       "      <th></th>\n",
       "      <th></th>\n",
       "      <th></th>\n",
       "      <th></th>\n",
       "    </tr>\n",
       "  </thead>\n",
       "  <tbody>\n",
       "    <tr>\n",
       "      <th>2018-05-04 00:00:00-04:00</th>\n",
       "      <td>13.00</td>\n",
       "      <td>13.2400</td>\n",
       "      <td>12.00</td>\n",
       "      <td>12.100</td>\n",
       "      <td>3947178</td>\n",
       "    </tr>\n",
       "    <tr>\n",
       "      <th>2018-05-07 00:00:00-04:00</th>\n",
       "      <td>12.10</td>\n",
       "      <td>12.2514</td>\n",
       "      <td>12.04</td>\n",
       "      <td>12.050</td>\n",
       "      <td>466529</td>\n",
       "    </tr>\n",
       "    <tr>\n",
       "      <th>2018-05-08 00:00:00-04:00</th>\n",
       "      <td>12.18</td>\n",
       "      <td>12.2100</td>\n",
       "      <td>12.00</td>\n",
       "      <td>12.050</td>\n",
       "      <td>290422</td>\n",
       "    </tr>\n",
       "    <tr>\n",
       "      <th>2018-05-09 00:00:00-04:00</th>\n",
       "      <td>12.04</td>\n",
       "      <td>12.1800</td>\n",
       "      <td>12.00</td>\n",
       "      <td>12.035</td>\n",
       "      <td>167564</td>\n",
       "    </tr>\n",
       "    <tr>\n",
       "      <th>2018-05-10 00:00:00-04:00</th>\n",
       "      <td>12.01</td>\n",
       "      <td>12.1500</td>\n",
       "      <td>12.00</td>\n",
       "      <td>12.000</td>\n",
       "      <td>105833</td>\n",
       "    </tr>\n",
       "  </tbody>\n",
       "</table>\n",
       "</div>"
      ],
      "text/plain": [
       "                            ROAD                                 \n",
       "                            open     high    low   close   volume\n",
       "time                                                             \n",
       "2018-05-04 00:00:00-04:00  13.00  13.2400  12.00  12.100  3947178\n",
       "2018-05-07 00:00:00-04:00  12.10  12.2514  12.04  12.050   466529\n",
       "2018-05-08 00:00:00-04:00  12.18  12.2100  12.00  12.050   290422\n",
       "2018-05-09 00:00:00-04:00  12.04  12.1800  12.00  12.035   167564\n",
       "2018-05-10 00:00:00-04:00  12.01  12.1500  12.00  12.000   105833"
      ]
     },
     "execution_count": 27,
     "metadata": {},
     "output_type": "execute_result"
    }
   ],
   "source": [
    "# Set timeframe to '1D'\n",
    "timeframe = \"1D\"\n",
    "\n",
    "# Set start and end datetimes between now and 3 years ago.\n",
    "start_date = pd.Timestamp(\"2018-05-01\", tz=\"America/New_York\").isoformat()\n",
    "end_date = pd.Timestamp(\"2020-05-01\", tz=\"America/New_York\").isoformat()\n",
    "\n",
    "# Get 3 year's worth of historical price data for Microsoft and Coca-Cola\n",
    "df_ticker = api.get_barset(\n",
    "    tickers,\n",
    "    timeframe,\n",
    "    start=start_date,\n",
    "    end=end_date\n",
    ").df\n",
    "\n",
    "df_ticker.head()"
   ]
  },
  {
   "cell_type": "code",
   "execution_count": 28,
   "metadata": {},
   "outputs": [],
   "source": [
    "### Dynamically Generate Weights "
   ]
  },
  {
   "cell_type": "raw",
   "metadata": {},
   "source": [
    "#Code for static weights\n",
    "#weight_pct = round(100/len(tickers)/100,2)\n",
    "#weight_list = []\n",
    "#for i in range(len(tickers)):\n",
    "#    weight_list.append(weight_pct)\n",
    "#print(weight_list)\n"
   ]
  },
  {
   "cell_type": "code",
   "execution_count": 29,
   "metadata": {},
   "outputs": [
    {
     "name": "stdout",
     "output_type": "stream",
     "text": [
      "[1]\n"
     ]
    }
   ],
   "source": [
    "total = 1\n",
    "weight_list = []\n",
    "for i in range(len(tickers)):\n",
    "    if i == (len(tickers)-1):\n",
    "        weight_list.append(round(total,2))\n",
    "    elif len(tickers) > 1 and len(tickers) <= 5:\n",
    "        weight = (round(random.uniform(0,total),2))\n",
    "        weight_list.append(round(weight,2))\n",
    "        total -= weight\n",
    "    elif len(tickers) > 5:\n",
    "        weight = (round(random.uniform(0.1,total)/3,8))\n",
    "        weight_list.append(round(weight,2))\n",
    "        total -= weight        \n",
    "    else:\n",
    "        weight_list.append(1.0)\n",
    "print(weight_list)"
   ]
  },
  {
   "cell_type": "markdown",
   "metadata": {},
   "source": [
    "### The MCForecastTools Library at a Glance"
   ]
  },
  {
   "cell_type": "markdown",
   "metadata": {},
   "source": [
    "### Simulate five year portfolio growth using Monte Carlo simulation"
   ]
  },
  {
   "cell_type": "code",
   "execution_count": 30,
   "metadata": {},
   "outputs": [],
   "source": [
    "# Configuring a Monte Carlo simulation to forecast five years cumulative returns\n",
    "MC_fiveyear = MCSimulation(\n",
    "    portfolio_data = df_ticker,\n",
    "    weights = weight_list,\n",
    "    num_simulation = 500,\n",
    "    num_trading_days = 252*5\n",
    ")"
   ]
  },
  {
   "cell_type": "code",
   "execution_count": 31,
   "metadata": {},
   "outputs": [
    {
     "data": {
      "text/html": [
       "<div>\n",
       "<style scoped>\n",
       "    .dataframe tbody tr th:only-of-type {\n",
       "        vertical-align: middle;\n",
       "    }\n",
       "\n",
       "    .dataframe tbody tr th {\n",
       "        vertical-align: top;\n",
       "    }\n",
       "\n",
       "    .dataframe thead tr th {\n",
       "        text-align: left;\n",
       "    }\n",
       "\n",
       "    .dataframe thead tr:last-of-type th {\n",
       "        text-align: right;\n",
       "    }\n",
       "</style>\n",
       "<table border=\"1\" class=\"dataframe\">\n",
       "  <thead>\n",
       "    <tr>\n",
       "      <th></th>\n",
       "      <th colspan=\"6\" halign=\"left\">ROAD</th>\n",
       "    </tr>\n",
       "    <tr>\n",
       "      <th></th>\n",
       "      <th>open</th>\n",
       "      <th>high</th>\n",
       "      <th>low</th>\n",
       "      <th>close</th>\n",
       "      <th>volume</th>\n",
       "      <th>daily_return</th>\n",
       "    </tr>\n",
       "    <tr>\n",
       "      <th>time</th>\n",
       "      <th></th>\n",
       "      <th></th>\n",
       "      <th></th>\n",
       "      <th></th>\n",
       "      <th></th>\n",
       "      <th></th>\n",
       "    </tr>\n",
       "  </thead>\n",
       "  <tbody>\n",
       "    <tr>\n",
       "      <th>2018-05-04 00:00:00-04:00</th>\n",
       "      <td>13.00</td>\n",
       "      <td>13.2400</td>\n",
       "      <td>12.00</td>\n",
       "      <td>12.100</td>\n",
       "      <td>3947178</td>\n",
       "      <td>NaN</td>\n",
       "    </tr>\n",
       "    <tr>\n",
       "      <th>2018-05-07 00:00:00-04:00</th>\n",
       "      <td>12.10</td>\n",
       "      <td>12.2514</td>\n",
       "      <td>12.04</td>\n",
       "      <td>12.050</td>\n",
       "      <td>466529</td>\n",
       "      <td>-0.004132</td>\n",
       "    </tr>\n",
       "    <tr>\n",
       "      <th>2018-05-08 00:00:00-04:00</th>\n",
       "      <td>12.18</td>\n",
       "      <td>12.2100</td>\n",
       "      <td>12.00</td>\n",
       "      <td>12.050</td>\n",
       "      <td>290422</td>\n",
       "      <td>0.000000</td>\n",
       "    </tr>\n",
       "    <tr>\n",
       "      <th>2018-05-09 00:00:00-04:00</th>\n",
       "      <td>12.04</td>\n",
       "      <td>12.1800</td>\n",
       "      <td>12.00</td>\n",
       "      <td>12.035</td>\n",
       "      <td>167564</td>\n",
       "      <td>-0.001245</td>\n",
       "    </tr>\n",
       "    <tr>\n",
       "      <th>2018-05-10 00:00:00-04:00</th>\n",
       "      <td>12.01</td>\n",
       "      <td>12.1500</td>\n",
       "      <td>12.00</td>\n",
       "      <td>12.000</td>\n",
       "      <td>105833</td>\n",
       "      <td>-0.002908</td>\n",
       "    </tr>\n",
       "  </tbody>\n",
       "</table>\n",
       "</div>"
      ],
      "text/plain": [
       "                            ROAD                                              \n",
       "                            open     high    low   close   volume daily_return\n",
       "time                                                                          \n",
       "2018-05-04 00:00:00-04:00  13.00  13.2400  12.00  12.100  3947178          NaN\n",
       "2018-05-07 00:00:00-04:00  12.10  12.2514  12.04  12.050   466529    -0.004132\n",
       "2018-05-08 00:00:00-04:00  12.18  12.2100  12.00  12.050   290422     0.000000\n",
       "2018-05-09 00:00:00-04:00  12.04  12.1800  12.00  12.035   167564    -0.001245\n",
       "2018-05-10 00:00:00-04:00  12.01  12.1500  12.00  12.000   105833    -0.002908"
      ]
     },
     "execution_count": 31,
     "metadata": {},
     "output_type": "execute_result"
    }
   ],
   "source": [
    "# Printing the simulation input data\n",
    "MC_fiveyear.portfolio_data.head()"
   ]
  },
  {
   "cell_type": "code",
   "execution_count": 32,
   "metadata": {},
   "outputs": [
    {
     "name": "stdout",
     "output_type": "stream",
     "text": [
      "Running Monte Carlo simulation number 0.\n",
      "Running Monte Carlo simulation number 10.\n",
      "Running Monte Carlo simulation number 20.\n",
      "Running Monte Carlo simulation number 30.\n",
      "Running Monte Carlo simulation number 40.\n",
      "Running Monte Carlo simulation number 50.\n",
      "Running Monte Carlo simulation number 60.\n",
      "Running Monte Carlo simulation number 70.\n",
      "Running Monte Carlo simulation number 80.\n",
      "Running Monte Carlo simulation number 90.\n",
      "Running Monte Carlo simulation number 100.\n",
      "Running Monte Carlo simulation number 110.\n",
      "Running Monte Carlo simulation number 120.\n",
      "Running Monte Carlo simulation number 130.\n",
      "Running Monte Carlo simulation number 140.\n",
      "Running Monte Carlo simulation number 150.\n",
      "Running Monte Carlo simulation number 160.\n",
      "Running Monte Carlo simulation number 170.\n",
      "Running Monte Carlo simulation number 180.\n",
      "Running Monte Carlo simulation number 190.\n",
      "Running Monte Carlo simulation number 200.\n",
      "Running Monte Carlo simulation number 210.\n",
      "Running Monte Carlo simulation number 220.\n",
      "Running Monte Carlo simulation number 230.\n",
      "Running Monte Carlo simulation number 240.\n",
      "Running Monte Carlo simulation number 250.\n",
      "Running Monte Carlo simulation number 260.\n",
      "Running Monte Carlo simulation number 270.\n",
      "Running Monte Carlo simulation number 280.\n",
      "Running Monte Carlo simulation number 290.\n",
      "Running Monte Carlo simulation number 300.\n",
      "Running Monte Carlo simulation number 310.\n",
      "Running Monte Carlo simulation number 320.\n",
      "Running Monte Carlo simulation number 330.\n",
      "Running Monte Carlo simulation number 340.\n",
      "Running Monte Carlo simulation number 350.\n",
      "Running Monte Carlo simulation number 360.\n",
      "Running Monte Carlo simulation number 370.\n",
      "Running Monte Carlo simulation number 380.\n",
      "Running Monte Carlo simulation number 390.\n",
      "Running Monte Carlo simulation number 400.\n",
      "Running Monte Carlo simulation number 410.\n",
      "Running Monte Carlo simulation number 420.\n",
      "Running Monte Carlo simulation number 430.\n",
      "Running Monte Carlo simulation number 440.\n",
      "Running Monte Carlo simulation number 450.\n",
      "Running Monte Carlo simulation number 460.\n",
      "Running Monte Carlo simulation number 470.\n",
      "Running Monte Carlo simulation number 480.\n",
      "Running Monte Carlo simulation number 490.\n"
     ]
    },
    {
     "data": {
      "text/html": [
       "<div>\n",
       "<style scoped>\n",
       "    .dataframe tbody tr th:only-of-type {\n",
       "        vertical-align: middle;\n",
       "    }\n",
       "\n",
       "    .dataframe tbody tr th {\n",
       "        vertical-align: top;\n",
       "    }\n",
       "\n",
       "    .dataframe thead th {\n",
       "        text-align: right;\n",
       "    }\n",
       "</style>\n",
       "<table border=\"1\" class=\"dataframe\">\n",
       "  <thead>\n",
       "    <tr style=\"text-align: right;\">\n",
       "      <th></th>\n",
       "      <th>0</th>\n",
       "      <th>1</th>\n",
       "      <th>2</th>\n",
       "      <th>3</th>\n",
       "      <th>4</th>\n",
       "      <th>5</th>\n",
       "      <th>6</th>\n",
       "      <th>7</th>\n",
       "      <th>8</th>\n",
       "      <th>9</th>\n",
       "      <th>...</th>\n",
       "      <th>490</th>\n",
       "      <th>491</th>\n",
       "      <th>492</th>\n",
       "      <th>493</th>\n",
       "      <th>494</th>\n",
       "      <th>495</th>\n",
       "      <th>496</th>\n",
       "      <th>497</th>\n",
       "      <th>498</th>\n",
       "      <th>499</th>\n",
       "    </tr>\n",
       "  </thead>\n",
       "  <tbody>\n",
       "    <tr>\n",
       "      <th>0</th>\n",
       "      <td>1.000000</td>\n",
       "      <td>1.000000</td>\n",
       "      <td>1.000000</td>\n",
       "      <td>1.000000</td>\n",
       "      <td>1.000000</td>\n",
       "      <td>1.000000</td>\n",
       "      <td>1.000000</td>\n",
       "      <td>1.000000</td>\n",
       "      <td>1.000000</td>\n",
       "      <td>1.000000</td>\n",
       "      <td>...</td>\n",
       "      <td>1.000000</td>\n",
       "      <td>1.000000</td>\n",
       "      <td>1.000000</td>\n",
       "      <td>1.000000</td>\n",
       "      <td>1.000000</td>\n",
       "      <td>1.000000</td>\n",
       "      <td>1.000000</td>\n",
       "      <td>1.000000</td>\n",
       "      <td>1.000000</td>\n",
       "      <td>1.000000</td>\n",
       "    </tr>\n",
       "    <tr>\n",
       "      <th>1</th>\n",
       "      <td>1.085864</td>\n",
       "      <td>0.992516</td>\n",
       "      <td>1.024052</td>\n",
       "      <td>1.064589</td>\n",
       "      <td>0.968030</td>\n",
       "      <td>0.986624</td>\n",
       "      <td>1.075272</td>\n",
       "      <td>0.988659</td>\n",
       "      <td>0.987689</td>\n",
       "      <td>1.003330</td>\n",
       "      <td>...</td>\n",
       "      <td>0.986349</td>\n",
       "      <td>1.004567</td>\n",
       "      <td>0.941643</td>\n",
       "      <td>0.992244</td>\n",
       "      <td>1.027337</td>\n",
       "      <td>0.949241</td>\n",
       "      <td>0.976524</td>\n",
       "      <td>0.987264</td>\n",
       "      <td>1.011241</td>\n",
       "      <td>1.049197</td>\n",
       "    </tr>\n",
       "    <tr>\n",
       "      <th>2</th>\n",
       "      <td>1.067160</td>\n",
       "      <td>1.009358</td>\n",
       "      <td>1.025265</td>\n",
       "      <td>1.091417</td>\n",
       "      <td>0.972155</td>\n",
       "      <td>0.992592</td>\n",
       "      <td>1.134322</td>\n",
       "      <td>0.919919</td>\n",
       "      <td>1.031460</td>\n",
       "      <td>0.989134</td>\n",
       "      <td>...</td>\n",
       "      <td>0.963678</td>\n",
       "      <td>1.007794</td>\n",
       "      <td>1.002872</td>\n",
       "      <td>1.010783</td>\n",
       "      <td>1.019165</td>\n",
       "      <td>0.943082</td>\n",
       "      <td>1.004809</td>\n",
       "      <td>1.018575</td>\n",
       "      <td>0.974662</td>\n",
       "      <td>1.072874</td>\n",
       "    </tr>\n",
       "    <tr>\n",
       "      <th>3</th>\n",
       "      <td>1.056453</td>\n",
       "      <td>0.987665</td>\n",
       "      <td>1.030692</td>\n",
       "      <td>1.110104</td>\n",
       "      <td>0.983074</td>\n",
       "      <td>0.970058</td>\n",
       "      <td>1.089829</td>\n",
       "      <td>0.929820</td>\n",
       "      <td>1.054842</td>\n",
       "      <td>1.056912</td>\n",
       "      <td>...</td>\n",
       "      <td>1.029264</td>\n",
       "      <td>1.005581</td>\n",
       "      <td>1.023711</td>\n",
       "      <td>1.010780</td>\n",
       "      <td>1.018617</td>\n",
       "      <td>0.968741</td>\n",
       "      <td>1.023771</td>\n",
       "      <td>1.005729</td>\n",
       "      <td>0.933145</td>\n",
       "      <td>1.061842</td>\n",
       "    </tr>\n",
       "    <tr>\n",
       "      <th>4</th>\n",
       "      <td>1.012678</td>\n",
       "      <td>0.990721</td>\n",
       "      <td>1.092671</td>\n",
       "      <td>1.138790</td>\n",
       "      <td>0.958814</td>\n",
       "      <td>1.003417</td>\n",
       "      <td>1.101906</td>\n",
       "      <td>0.874849</td>\n",
       "      <td>1.080442</td>\n",
       "      <td>1.061831</td>\n",
       "      <td>...</td>\n",
       "      <td>1.074613</td>\n",
       "      <td>1.055967</td>\n",
       "      <td>1.000850</td>\n",
       "      <td>0.985881</td>\n",
       "      <td>1.016417</td>\n",
       "      <td>0.981551</td>\n",
       "      <td>1.014481</td>\n",
       "      <td>0.955733</td>\n",
       "      <td>0.924491</td>\n",
       "      <td>1.095826</td>\n",
       "    </tr>\n",
       "    <tr>\n",
       "      <th>...</th>\n",
       "      <td>...</td>\n",
       "      <td>...</td>\n",
       "      <td>...</td>\n",
       "      <td>...</td>\n",
       "      <td>...</td>\n",
       "      <td>...</td>\n",
       "      <td>...</td>\n",
       "      <td>...</td>\n",
       "      <td>...</td>\n",
       "      <td>...</td>\n",
       "      <td>...</td>\n",
       "      <td>...</td>\n",
       "      <td>...</td>\n",
       "      <td>...</td>\n",
       "      <td>...</td>\n",
       "      <td>...</td>\n",
       "      <td>...</td>\n",
       "      <td>...</td>\n",
       "      <td>...</td>\n",
       "      <td>...</td>\n",
       "      <td>...</td>\n",
       "    </tr>\n",
       "    <tr>\n",
       "      <th>1256</th>\n",
       "      <td>1.590389</td>\n",
       "      <td>4.162099</td>\n",
       "      <td>6.104426</td>\n",
       "      <td>5.185731</td>\n",
       "      <td>0.067295</td>\n",
       "      <td>7.737099</td>\n",
       "      <td>0.272585</td>\n",
       "      <td>41.047613</td>\n",
       "      <td>9.291354</td>\n",
       "      <td>4.967143</td>\n",
       "      <td>...</td>\n",
       "      <td>1.672398</td>\n",
       "      <td>7.244383</td>\n",
       "      <td>1.398628</td>\n",
       "      <td>1.280666</td>\n",
       "      <td>7.318919</td>\n",
       "      <td>3.383150</td>\n",
       "      <td>4.976645</td>\n",
       "      <td>0.461033</td>\n",
       "      <td>1.075290</td>\n",
       "      <td>6.486592</td>\n",
       "    </tr>\n",
       "    <tr>\n",
       "      <th>1257</th>\n",
       "      <td>1.636685</td>\n",
       "      <td>4.041059</td>\n",
       "      <td>5.935549</td>\n",
       "      <td>5.215428</td>\n",
       "      <td>0.068404</td>\n",
       "      <td>7.781687</td>\n",
       "      <td>0.283025</td>\n",
       "      <td>43.029929</td>\n",
       "      <td>9.784421</td>\n",
       "      <td>4.806363</td>\n",
       "      <td>...</td>\n",
       "      <td>1.693727</td>\n",
       "      <td>7.160304</td>\n",
       "      <td>1.349359</td>\n",
       "      <td>1.301182</td>\n",
       "      <td>7.011022</td>\n",
       "      <td>3.390282</td>\n",
       "      <td>4.904470</td>\n",
       "      <td>0.470240</td>\n",
       "      <td>1.059277</td>\n",
       "      <td>5.933191</td>\n",
       "    </tr>\n",
       "    <tr>\n",
       "      <th>1258</th>\n",
       "      <td>1.548986</td>\n",
       "      <td>4.125168</td>\n",
       "      <td>5.859682</td>\n",
       "      <td>5.223008</td>\n",
       "      <td>0.069269</td>\n",
       "      <td>7.719328</td>\n",
       "      <td>0.278596</td>\n",
       "      <td>43.192830</td>\n",
       "      <td>9.852687</td>\n",
       "      <td>4.940623</td>\n",
       "      <td>...</td>\n",
       "      <td>1.621545</td>\n",
       "      <td>7.341532</td>\n",
       "      <td>1.388406</td>\n",
       "      <td>1.239398</td>\n",
       "      <td>7.122111</td>\n",
       "      <td>3.173597</td>\n",
       "      <td>4.881096</td>\n",
       "      <td>0.493091</td>\n",
       "      <td>1.075354</td>\n",
       "      <td>6.069258</td>\n",
       "    </tr>\n",
       "    <tr>\n",
       "      <th>1259</th>\n",
       "      <td>1.563337</td>\n",
       "      <td>3.999687</td>\n",
       "      <td>6.132680</td>\n",
       "      <td>5.088824</td>\n",
       "      <td>0.069294</td>\n",
       "      <td>7.969541</td>\n",
       "      <td>0.282880</td>\n",
       "      <td>41.422986</td>\n",
       "      <td>9.918661</td>\n",
       "      <td>5.039253</td>\n",
       "      <td>...</td>\n",
       "      <td>1.602685</td>\n",
       "      <td>7.296029</td>\n",
       "      <td>1.300544</td>\n",
       "      <td>1.279179</td>\n",
       "      <td>7.377699</td>\n",
       "      <td>3.163311</td>\n",
       "      <td>5.143150</td>\n",
       "      <td>0.499010</td>\n",
       "      <td>0.990856</td>\n",
       "      <td>5.957906</td>\n",
       "    </tr>\n",
       "    <tr>\n",
       "      <th>1260</th>\n",
       "      <td>1.675144</td>\n",
       "      <td>3.996502</td>\n",
       "      <td>5.842645</td>\n",
       "      <td>5.221043</td>\n",
       "      <td>0.068581</td>\n",
       "      <td>7.682730</td>\n",
       "      <td>0.275986</td>\n",
       "      <td>43.195457</td>\n",
       "      <td>9.624293</td>\n",
       "      <td>5.023421</td>\n",
       "      <td>...</td>\n",
       "      <td>1.681004</td>\n",
       "      <td>7.625635</td>\n",
       "      <td>1.275372</td>\n",
       "      <td>1.268378</td>\n",
       "      <td>7.108424</td>\n",
       "      <td>2.998383</td>\n",
       "      <td>4.881053</td>\n",
       "      <td>0.496524</td>\n",
       "      <td>0.978498</td>\n",
       "      <td>6.030236</td>\n",
       "    </tr>\n",
       "  </tbody>\n",
       "</table>\n",
       "<p>1261 rows × 500 columns</p>\n",
       "</div>"
      ],
      "text/plain": [
       "           0         1         2         3         4         5         6    \\\n",
       "0     1.000000  1.000000  1.000000  1.000000  1.000000  1.000000  1.000000   \n",
       "1     1.085864  0.992516  1.024052  1.064589  0.968030  0.986624  1.075272   \n",
       "2     1.067160  1.009358  1.025265  1.091417  0.972155  0.992592  1.134322   \n",
       "3     1.056453  0.987665  1.030692  1.110104  0.983074  0.970058  1.089829   \n",
       "4     1.012678  0.990721  1.092671  1.138790  0.958814  1.003417  1.101906   \n",
       "...        ...       ...       ...       ...       ...       ...       ...   \n",
       "1256  1.590389  4.162099  6.104426  5.185731  0.067295  7.737099  0.272585   \n",
       "1257  1.636685  4.041059  5.935549  5.215428  0.068404  7.781687  0.283025   \n",
       "1258  1.548986  4.125168  5.859682  5.223008  0.069269  7.719328  0.278596   \n",
       "1259  1.563337  3.999687  6.132680  5.088824  0.069294  7.969541  0.282880   \n",
       "1260  1.675144  3.996502  5.842645  5.221043  0.068581  7.682730  0.275986   \n",
       "\n",
       "            7         8         9    ...       490       491       492  \\\n",
       "0      1.000000  1.000000  1.000000  ...  1.000000  1.000000  1.000000   \n",
       "1      0.988659  0.987689  1.003330  ...  0.986349  1.004567  0.941643   \n",
       "2      0.919919  1.031460  0.989134  ...  0.963678  1.007794  1.002872   \n",
       "3      0.929820  1.054842  1.056912  ...  1.029264  1.005581  1.023711   \n",
       "4      0.874849  1.080442  1.061831  ...  1.074613  1.055967  1.000850   \n",
       "...         ...       ...       ...  ...       ...       ...       ...   \n",
       "1256  41.047613  9.291354  4.967143  ...  1.672398  7.244383  1.398628   \n",
       "1257  43.029929  9.784421  4.806363  ...  1.693727  7.160304  1.349359   \n",
       "1258  43.192830  9.852687  4.940623  ...  1.621545  7.341532  1.388406   \n",
       "1259  41.422986  9.918661  5.039253  ...  1.602685  7.296029  1.300544   \n",
       "1260  43.195457  9.624293  5.023421  ...  1.681004  7.625635  1.275372   \n",
       "\n",
       "           493       494       495       496       497       498       499  \n",
       "0     1.000000  1.000000  1.000000  1.000000  1.000000  1.000000  1.000000  \n",
       "1     0.992244  1.027337  0.949241  0.976524  0.987264  1.011241  1.049197  \n",
       "2     1.010783  1.019165  0.943082  1.004809  1.018575  0.974662  1.072874  \n",
       "3     1.010780  1.018617  0.968741  1.023771  1.005729  0.933145  1.061842  \n",
       "4     0.985881  1.016417  0.981551  1.014481  0.955733  0.924491  1.095826  \n",
       "...        ...       ...       ...       ...       ...       ...       ...  \n",
       "1256  1.280666  7.318919  3.383150  4.976645  0.461033  1.075290  6.486592  \n",
       "1257  1.301182  7.011022  3.390282  4.904470  0.470240  1.059277  5.933191  \n",
       "1258  1.239398  7.122111  3.173597  4.881096  0.493091  1.075354  6.069258  \n",
       "1259  1.279179  7.377699  3.163311  5.143150  0.499010  0.990856  5.957906  \n",
       "1260  1.268378  7.108424  2.998383  4.881053  0.496524  0.978498  6.030236  \n",
       "\n",
       "[1261 rows x 500 columns]"
      ]
     },
     "execution_count": 32,
     "metadata": {},
     "output_type": "execute_result"
    }
   ],
   "source": [
    "# Running a Monte Carlo simulation to forecast five years cumulative returns\n",
    "MC_fiveyear.calc_cumulative_return()"
   ]
  },
  {
   "cell_type": "code",
   "execution_count": 33,
   "metadata": {},
   "outputs": [
    {
     "data": {
      "image/png": "[encoded data removed]",
      "text/plain": [
       "<Figure size 432x288 with 1 Axes>"
      ]
     },
     "metadata": {
      "needs_background": "light"
     },
     "output_type": "display_data"
    }
   ],
   "source": [
    "# Plot simulation outcomes\n",
    "line_plot = MC_fiveyear.plot_simulation()\n",
    "\n",
    "# Save the plot for future usage\n",
    "line_plot.get_figure().savefig(\"MC_fiveyear_sim_plot.png\", bbox_inches=\"tight\")"
   ]
  },
  {
   "cell_type": "code",
   "execution_count": 34,
   "metadata": {},
   "outputs": [
    {
     "data": {
      "image/png": "[encoded data removed]",
      "text/plain": [
       "<Figure size 432x288 with 1 Axes>"
      ]
     },
     "metadata": {
      "needs_background": "light"
     },
     "output_type": "display_data"
    }
   ],
   "source": [
    "# Plot probability distribution and confidence intervals\n",
    "dist_plot = MC_fiveyear.plot_distribution()\n",
    "\n",
    "# Save the plot for future usage\n",
    "dist_plot.get_figure().savefig('MC_fiveyear_dist_plot.png',bbox_inches='tight')"
   ]
  },
  {
   "cell_type": "code",
   "execution_count": 35,
   "metadata": {},
   "outputs": [
    {
     "name": "stdout",
     "output_type": "stream",
     "text": [
      "count           500.000000\n",
      "mean              4.579696\n",
      "std               7.569767\n",
      "min               0.068581\n",
      "25%               0.935060\n",
      "50%               2.037006\n",
      "75%               4.887923\n",
      "max              65.762429\n",
      "95% CI Lower      0.240063\n",
      "95% CI Upper     21.628964\n",
      "Name: 1260, dtype: float64\n"
     ]
    }
   ],
   "source": [
    "# Fetch summary statistics from the Monte Carlo simulation results\n",
    "tbl = MC_fiveyear.summarize_cumulative_return()\n",
    "\n",
    "# Print summary statistics\n",
    "print(tbl)"
   ]
  },
  {
   "cell_type": "code",
   "execution_count": 36,
   "metadata": {},
   "outputs": [
    {
     "name": "stdout",
     "output_type": "stream",
     "text": [
      "There is a 95% chance that an initial investment of $10,000 in the portfolio over the next 5 years will end within in the range of $2400.63 and $216289.64\n"
     ]
    }
   ],
   "source": [
    "# Use the lower and upper `95%` confidence intervals to calculate the range of the possible outcomes of our $10,000 investments in Coca-Cola and Microsoft stocks\n",
    "ci_lower = round(tbl[8]*initial_investment,2)\n",
    "ci_upper = round(tbl[9]*initial_investment,2)\n",
    "\n",
    "# Print results\n",
    "print(f\"There is a 95% chance that an initial investment of $10,000 in the portfolio\"\n",
    "      f\" over the next 5 years will end within in the range of\"\n",
    "      f\" ${ci_lower} and ${ci_upper}\")"
   ]
  },
  {
   "cell_type": "code",
   "execution_count": 37,
   "metadata": {},
   "outputs": [
    {
     "name": "stdout",
     "output_type": "stream",
     "text": [
      "Buy ROAD: 343 shares\n"
     ]
    }
   ],
   "source": [
    "portfolio = {}\n",
    "for ticker in tickers:\n",
    "    stock_weight = weight_list[tickers.index(ticker)] * initial_investment\n",
    "    current_stock_price = round(si.get_live_price(ticker),2)\n",
    "    portfolio_weight = stock_weight//current_stock_price\n",
    "    portfolio[ticker] = math.floor(portfolio_weight)\n",
    "\n",
    "for key in portfolio.keys():\n",
    "    mystring = f\"Buy {key}: {portfolio[key]} shares\"\n",
    "    print(mystring)"
   ]
  },
  {
   "cell_type": "code",
   "execution_count": null,
   "metadata": {},
   "outputs": [],
   "source": []
  },
  {
   "cell_type": "code",
   "execution_count": null,
   "metadata": {},
   "outputs": [],
   "source": []
  },
  {
   "cell_type": "code",
   "execution_count": null,
   "metadata": {},
   "outputs": [],
   "source": []
  },
  {
   "cell_type": "code",
   "execution_count": null,
   "metadata": {},
   "outputs": [],
   "source": []
  },
  {
   "cell_type": "code",
   "execution_count": null,
   "metadata": {},
   "outputs": [],
   "source": []
  }
 ],
 "metadata": {
  "kernel_info": {
   "name": "python3"
  },
  "kernelspec": {
   "display_name": "Python 3",
   "language": "python",
   "name": "python3"
  },
  "language_info": {
   "codemirror_mode": {
    "name": "ipython",
    "version": 3
   },
   "file_extension": ".py",
   "mimetype": "text/x-python",
   "name": "python",
   "nbconvert_exporter": "python",
   "pygments_lexer": "ipython3",
   "version": "3.8.5"
  },
  "nteract": {
   "version": "0.12.3"
  }
 },
 "nbformat": 4,
 "nbformat_minor": 4
}
